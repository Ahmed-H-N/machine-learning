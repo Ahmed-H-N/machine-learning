{
 "cells": [
  {
   "cell_type": "markdown",
   "metadata": {},
   "source": [
    "# After Effects Notes"
   ]
  },
  {
   "cell_type": "markdown",
   "metadata": {},
   "source": [
    "## Content\n",
    "- "
   ]
  },
  {
   "cell_type": "markdown",
   "metadata": {},
   "source": [
    "## Up and Running\n",
    "- making a composition \n",
    "    - note: when making a comp, the background color won't matter. YOU have to make a solid layer if you want to change the background color, otherwise it will always renders black no matter what color you choose (and hence see in the preview)\n",
    "- you may want to organize your files in the project dock as follows:\n",
    "    - the comp is as is\n",
    "    - and the following folders : files, audio, video, solids."
   ]
  },
  {
   "cell_type": "markdown",
   "metadata": {},
   "source": [
    "### (1/12) Overview \n",
    "#### 1- Inspiration\n",
    "- https://informationisbeautiful.net\n",
    "- https://videohive.net/category/motion-graphics/infographics\n",
    "- https://www.pond5.com/after-effects/\n",
    "- https://www.artofthetitle.com/features/"
   ]
  },
  {
   "cell_type": "markdown",
   "metadata": {},
   "source": [
    "### (2/12) Animating Infographics"
   ]
  },
  {
   "cell_type": "markdown",
   "metadata": {},
   "source": [
    "#### 1- Sound and Music\n",
    "- Sound level is measured in decibels which is in negative scale , where \n",
    "    - 0 db is the highest level\n",
    "- The standard is that you make the sound ranges from **`-12 db`** (this is the low end point) to **`-6 db`** (this is the high end point)    \n",
    "- for the background music, he just adjusted the level with his ears :("
   ]
  },
  {
   "cell_type": "markdown",
   "metadata": {},
   "source": [
    "#### 2- Getting free icons\n",
    "- https://www.iconfinder.com/\n",
    "    - choose **`vector`** and also download the **`SVG`** version, not the `png`, because we want to scale without pixilating"
   ]
  },
  {
   "cell_type": "markdown",
   "metadata": {},
   "source": [
    "#### 3- animating\n",
    "- in the time line, press **`u`** to ony show the attributes of the layers that has **`keyframes`** in it\n",
    "- selecting mutliple keyframes is with **`shift + click`** , NOT `ctrl + click`\n",
    "\n",
    "**Applying ease**\n",
    "- while selecting the in & out keyframes\n",
    "    - you can apply \"easy ease\" by `right clicking` on one of the two keyframes, then `keyframe assistant`, then `easy ease`\n",
    "    - or \"manual ease\" : `right clicking` on one of the two keyframes, then `keyframe velocity` then change the `influence`\n",
    "    - what \"easy ease\" does is that it sets the `influence` to 33.33% (for both: incoming and outgoing velocity), but what the author likes to do is crank it up to **`75%`** (for both: incoming and outgoing velocity)"
   ]
  },
  {
   "cell_type": "markdown",
   "metadata": {},
   "source": [
    "#### 4- add sounds and noises\n",
    "- these are usually under the name **`interface noises`**. examples of them are : pops, clicks, etc\n",
    "- sources \n",
    "    - https://freesound.org/"
   ]
  },
  {
   "cell_type": "markdown",
   "metadata": {},
   "source": [
    "#### 5- making circular burst\n",
    "- when you draw a shape, if u draw it by mouse, its anchor will not be in the shapes center (which will force u to adjust it), but u can avoid that by double clicking on the shape tool, this will make the shape as larga as the video, but it will also make the anchot at the center of the shape (and then u can resize the shape as u want)\n",
    "- here are the steps of making circular burst :\n",
    "    - 1) double click on the rounded rectangle tool \n",
    "    - 2) change the size of the shape by : changing the following attributes (under : shape layer ->rectangle 1 -> rectabgle path)\n",
    "        - `size`\n",
    "            - keyframe1: width=30 & height=0 (do not forget tp unchecl the chain tool to be able to do such adjustment), what u will see is a line of 30 px wide an no height.\n",
    "            - keyframe2: (after about a second) width=0 & height=60\n",
    "        - `position`\n",
    "            - keyframe1: x=0 & y=0\n",
    "            - keyframe2: x=0 & y= -240 (goes up!)\n",
    "    - 3) do the manual ease for the previous KF of the two attributes (using 75% influence for all keyframes)\n",
    "    - 4) add a repeater\n",
    "        - in the shape layer, twirl it up and then twirl it down so that every thing appears\n",
    "        - go to : shape layer -> contents, and you will find a button next to the word \"add\", click on it, then choose repeater (repeater is an effect)\n",
    "        - open the repeater (twirl it down)\n",
    "            - change copies to 13 (or as like as u want)\n",
    "            - twirl down `Transform: Repeater 1` and change the follwing\n",
    "                - remove the `position` vlaue by setting it to all zeros\n",
    "                - at `rotation` write the following 0x 360/13 , and the program will make the math for you\n",
    "    - 5) reposition the shape layer\n",
    "        - its hard to move it by hand, so you may use the `position` attribute at the shape layer \n",
    "            - this is done by : shape layer -> transform -> position (careful not to go under content (which has \"rectangle 1\" and \"repeater 1\") because u may find transform there, but it is not the intended to be changed )\n",
    "            \n",
    "The cool thing is that once u did it once, and u want to use it for another job, just copy and paste this shape layer to any new comp or any new project"
   ]
  },
  {
   "cell_type": "markdown",
   "metadata": {},
   "source": [
    "**Note:** hold `shift` while u are moving the marker at the time line, so that it snaps to significant places"
   ]
  },
  {
   "cell_type": "markdown",
   "metadata": {},
   "source": [
    "### (3/12) Techniques for beautiful animation"
   ]
  },
  {
   "cell_type": "markdown",
   "metadata": {},
   "source": [
    "#### 1- Motion blur\n",
    "- To add motion blur to a layer, you only do two steps\n",
    "    - 1) enable the motion blur for the layer by checking it under the column of motion blur (its symbol is several circles)\n",
    "    - 2) Enable the master of motion blur , which is above the layers are (**u will forget this step**)\n",
    "- the author almost uses motion blur in all animated layers.\n",
    "- adobe after effects is better than adobe animate in this thing \"motion blur\" because the latter does not allow u to do motion blur very well"
   ]
  },
  {
   "cell_type": "markdown",
   "metadata": {},
   "source": [
    "#### 2- Overshoot\n",
    "- u can do it for scale or postion, now we will do it for scale\n",
    "- u can do it manually or automatic, the problem is, the automatic does not work all the time (هشوف ليه !) (because we are gonna use existing code :'D, which is customize for only two KFs, but if I have several KFs (such as the object goes right then up then left) I may implement the code my self  ) <br><br>\n",
    "\n",
    "- so for the **manual way**: \n",
    "    - just start scale with 0% then after a while make it 120% then 90% then 105% then 100%\n",
    "    \n",
    "- for the **automatic way** (using expression):\n",
    "    - expression is \"coding\" in After Effects\n",
    "    - first u have to put the basic KFs (0% scale at the beginning and 100% scale after a while, may be after 16 frames)\n",
    "    - at the `scale` attribute \n",
    "        - hold **`alt`** and click on the watch that is on the left of the `scale` attr\n",
    "        - delete the existing expression (transform.scale) and replace it with the code that is availabe with this coure.\n",
    "    - u may want to fasten the animation (by making the two KFs closer) , so thatit looks great\n",
    "    - to apply this to our icon \n",
    "        - you need to delete the easing that was done on the KFs because this misses with the script, to make that : hold `ctrl` and click on each KF, which will turn each KF from the sand clock shape to its original diamond shape (no ease)\n",
    "    \n",
    "    \n",
    "**Note:** to fasten set of KFs linearly without the nead to move each one individually, you can select them all, press `alt` and click on the last KF, then drag it left or right (to make the animation faster or slower) "
   ]
  },
  {
   "cell_type": "markdown",
   "metadata": {},
   "source": [
    "#### 2- vingette\n",
    "- 1) add an adjustment layer : \n",
    "    - (from the file bar) layer -> new -> adjustment layer \n",
    "        - adjustment layer is an invisible layer that we can apply effects to.\n",
    "- 2) we are going to apply vingette to this adjustment layer as follows\n",
    "    - from the right side bar, click on `Effects & Presets`\n",
    "    - search for `lumetri`\n",
    "    - drag it and drop it on the adjustment layer\n",
    "- 3) on the left bar, there are options for that effect \n",
    "    - under vingette , change the `amount` , drag it left to about -1.7\n",
    "        - u can always test the effect by turning it on and off by clicking of the $fx$ button at the top of the options of the effect\n",
    "- 4) name the adjustment layer to vingette so that if u have more than one adjustment layer, u do not mess all them together.        \n",
    "\n",
    "The author uses vingette all the time\n",
    "\n",
    "**Note:** adjustment layer affects the layers beneth it, so make sure it is at the top of your layers."
   ]
  },
  {
   "cell_type": "markdown",
   "metadata": {},
   "source": [
    "#### 3- Anticipation\n",
    "- anticipation is when ur object goes right before going left, or becomes big before becoming smaller, etc.\n",
    "- We will adjust the postion of the text\n",
    "    - u can press **`p`** (when selecting the layer) to twirl down only the position attribute (instead of twirling down everything).\n",
    "        - also **`s`** for scale, and **`r`** for rotation. and **`t`** for opacity. (the last one is the only one that has strange letter)\n",
    "\n",
    "\n",
    "- 1) make the three key frames (start, wrong direct, right direct) and make easy ease\n",
    "- 2) since easy ease is not so good, we will use the graph editor :\n",
    "    - its button is above the layers dock. Its symbol is a monitor with a sin wave.\n",
    "    - select the key frames that you want to edit in the graph editor **Before** you press on the button of the graph editor.\n",
    "    - first thing, since the `x` and `y` attributes are both inside the postion attr, u can't edit one of them alone (here in the tutorial we are only editing the `y` coordinate), so u have to break them by clicking on the button `seperate dimensions` at the bottom of the graph editor dock\n",
    "    - to make nice animation, the graph should not have edgy transition, but it should be smooth , so smooth the transtions at the joints using the handle.\n",
    "    - go back to the normal time line and compress or expand the keyframes to make the speed of the animation just right\n",
    "- 3) turn the motion blur to make it nice.\n",
    "- the picture of the graph editor after finishing this is below\n",
    "\n",
    "![title](img/Graph_editor_for_anticipation.png)\n",
    "\n",
    "note, the images to be shown here, its name must not containg spaces <br>\n",
    "i still need to see how to resize, crop images, also how to put several images besides each other, (if there is no such thing in jupyter nootbook, of course I can do it with HTML)\n"
   ]
  },
  {
   "cell_type": "markdown",
   "metadata": {},
   "source": [
    "#### 4- Offset two object moving just after each other\n",
    "- he made horizontal transition to two object (actually he selected the two layers and made the keyframes in one shot)\n",
    "- then applied the overshoot script\n",
    "- then **he just made the offset by** selecting the two KFs of one object and made it before the other object (i.e it is done **manually**)\n",
    "- then he enabled motion blur"
   ]
  },
  {
   "cell_type": "markdown",
   "metadata": {},
   "source": [
    "#### 5- Vector Redraw\n",
    "- the problem is that even if you imported vectors from illustrator, if you scale them up, they will start to pixilate ! and thats b/c you do not always scale things up, so after effects saves you the trouple of redrawing them every frame (which will take additional time), however if you faced this issue (i.e your vectors are scaled up) just enable a button for that layer :\n",
    "the button named continous rasterize button and here its shape \n",
    "![title](img/continuously_rasterize.png)"
   ]
  },
  {
   "cell_type": "markdown",
   "metadata": {},
   "source": [
    "#### 6- Puppet tool\n",
    "- Puppet tool lets u put joints to an object, which lets you bind the object while the other parts of the object respond in some way of modification, this helps you in animating in several ways\n",
    "    - the example that the author showed was about a moving wire that over shoots by binding only some part of it\n",
    "    - another example i saw on youutube has shown that u can press ctrl and drag the joint live so that the movement u do will be recorder. I think this good if you want to make a character dance or move in a certain way, etc.<br><br>\n",
    "\n",
    "- I advice u to see the video again\n",
    "- here is the button of the Puppet tool\n",
    "![title](img/Puppet_tool.png)\n",
    "- bisaclly you do the transition then change the joints (since each joint has a keyframe, the change you make is assigned t the current keyframes)\n",
    "- here is a picture of what the author used it for :\n",
    "![title](img/Puppet_tool2.png)\n",
    "note: when the manual easing did not have much effect, he entered again the options of the manual ease and changed the velocity from some random number to 0."
   ]
  },
  {
   "cell_type": "markdown",
   "metadata": {},
   "source": [
    "#### 7- Precomposition\n",
    "- it is a kind of grouping [] , and although it is not about animation tips, we need to do it here before continuing because it let us avoid lots of the mess in the layers dock\n",
    "- since we have several icons, and each icon has (1) its illustrator layer, (2) its circle burs layer, and (3)its blop sound , and since we have 10 icons, this means 3x10 = 30 layers, but we are going to group each three layers (that correspond to an icon) , and this is precomposition. <br><br>\n",
    "\n",
    "- Steps of doing it : \n",
    "    - select the layers that u want to group (here, they are three)\n",
    "    - Right click one of them -> choose precompose\n",
    "    - name it (say, icon 1) -> click okay  (although he did not mention it, i noticed a checked box called \"adjust comp duration to the time span of the selected layers\")\n",
    "    - now, if u want to edit this precomp, just double click on it. <br><br>\n",
    "    \n",
    "- it gets even better when we reuse this precomp : \n",
    "    - to copy it , DO NOT copy it in the layer comp (this will make two version of the same comp, so if u change one, the other will also change), but rather copy the precomp in the project dock (where the files and comps exists)\n",
    "        - u just select the precomp in the project dock , and press `ctrl + c` then `ctrl + v` , and it will even increment the number (will name it icon 2)\n",
    "    - now, to replace the the old icon in precomp \"icon 2\", you do not delete the illustrator layer of the old icon (because this will delete the keyframes associated with it), but rather, press `alt` and drag the new illustrator file and put it on the old illustrator layer to replace it.     \n",
    "    - now, when u get back to the original comp, u can drag the new precomp to the layers dock, and change its position by dragging the icon on the preview window, and also play with time of appearance in the timeline. \n",
    "    - this way u can repeat tasks easily without repeating too much work. <br><br>\n",
    "- u will come across precomps if u take someone else's work or u work on a template"
   ]
  },
  {
   "cell_type": "markdown",
   "metadata": {},
   "source": [
    "### (4/12) Camera  1 Node"
   ]
  },
  {
   "cell_type": "markdown",
   "metadata": {},
   "source": [
    "#### 1- How to create/animate a camera in After Effects\n",
    "- add a camera :\n",
    "    - Layer -> new -> camera \n",
    "        - ( usually it is defaulted to \"two node camera\", switch it to \"one node camera\" for now b/c it is simpler\n",
    "        - make sure the depth of field is turned off \n",
    "    - the place of the camera in the layer dock won't matter, but it is usually at the top.\n",
    "        - u might get a warning that tells u that the camera won't be able to see any layer b/c they are all 2D layers. so u have to enable 3D for all the layers that u want to be seen by the camera by checking the corresponding place in the layers dock under the cube symbol. <br><br>\n",
    "        \n",
    "- we change the view of the preview from `1 View` to `2 Views - Horizontal` \n",
    "    - then activate the left preview by clicking on any place in it\n",
    "    - then , on the left of `2 Views - Horizontal` u will see `top` , change it to `Custom View 1` (that's better) \n",
    "    \n",
    "- to zoom:\n",
    "    - u will set key frames fo the following:\n",
    "        - in the camera layer, twirl it down -> transform -> then change the z-value\n",
    "        - also you can change the x and y position to reach to a particualr place.\n",
    "        - also use manual ease with 75% influnce \n",
    "        - do not forget to enable motion blur to layers <br><br>\n",
    "        \n",
    "- the author zoomed in to an icon, then moved to each icon, then zoomed out. <br><br>        \n",
    "\n",
    "- Note: \n",
    "    - u can copy and paste keyframes, u can use this to paste the first keyframe to the last keyframe (if u want the camera to return to the original place)\n",
    "    - when u make a manual ease to two keyframes, if u add a third KF, it will automatically have manual ease with the same influence (i should see whether it is in both direction or in one direction!)"
   ]
  },
  {
   "cell_type": "markdown",
   "metadata": {},
   "source": [
    "### (5/12) Preview Playback"
   ]
  },
  {
   "cell_type": "markdown",
   "metadata": {},
   "source": [
    "#### 1- How to speed up After Effects playback/preview\n"
   ]
  },
  {
   "cell_type": "markdown",
   "metadata": {},
   "source": [
    "### (6/12)"
   ]
  },
  {
   "cell_type": "markdown",
   "metadata": {},
   "source": [
    "### (7/12)"
   ]
  },
  {
   "cell_type": "markdown",
   "metadata": {},
   "source": [
    "### (8/12)"
   ]
  },
  {
   "cell_type": "markdown",
   "metadata": {},
   "source": [
    "### (9/12)"
   ]
  },
  {
   "cell_type": "markdown",
   "metadata": {},
   "source": [
    "### (10/12)"
   ]
  },
  {
   "cell_type": "markdown",
   "metadata": {},
   "source": [
    "### (11/12)"
   ]
  },
  {
   "cell_type": "markdown",
   "metadata": {},
   "source": [
    "### (12/12)"
   ]
  },
  {
   "cell_type": "code",
   "execution_count": null,
   "metadata": {},
   "outputs": [],
   "source": []
  }
 ],
 "metadata": {
  "kernelspec": {
   "display_name": "Python 3",
   "language": "python",
   "name": "python3"
  },
  "language_info": {
   "codemirror_mode": {
    "name": "ipython",
    "version": 3
   },
   "file_extension": ".py",
   "mimetype": "text/x-python",
   "name": "python",
   "nbconvert_exporter": "python",
   "pygments_lexer": "ipython3",
   "version": "3.7.1"
  },
  "varInspector": {
   "cols": {
    "lenName": 16,
    "lenType": 16,
    "lenVar": 40
   },
   "kernels_config": {
    "python": {
     "delete_cmd_postfix": "",
     "delete_cmd_prefix": "del ",
     "library": "var_list.py",
     "varRefreshCmd": "print(var_dic_list())"
    },
    "r": {
     "delete_cmd_postfix": ") ",
     "delete_cmd_prefix": "rm(",
     "library": "var_list.r",
     "varRefreshCmd": "cat(var_dic_list()) "
    }
   },
   "types_to_exclude": [
    "module",
    "function",
    "builtin_function_or_method",
    "instance",
    "_Feature"
   ],
   "window_display": false
  }
 },
 "nbformat": 4,
 "nbformat_minor": 2
}
