{
 "cells": [
  {
   "cell_type": "markdown",
   "metadata": {},
   "source": [
    "# After Effects Notes"
   ]
  },
  {
   "cell_type": "markdown",
   "metadata": {},
   "source": [
    "## Content\n",
    "- "
   ]
  },
  {
   "cell_type": "markdown",
   "metadata": {},
   "source": [
    "## Up and Running"
   ]
  },
  {
   "cell_type": "markdown",
   "metadata": {},
   "source": [
    "### (1/12) Overview \n",
    "#### 1- Inspiration\n",
    "- https://informationisbeautiful.net\n",
    "- https://videohive.net/category/motion-graphics/infographics\n",
    "- https://www.pond5.com/after-effects/\n",
    "- https://www.artofthetitle.com/features/"
   ]
  },
  {
   "cell_type": "markdown",
   "metadata": {},
   "source": [
    "### (2/12) Animating Infographics"
   ]
  },
  {
   "cell_type": "markdown",
   "metadata": {},
   "source": [
    "#### 1- Sound and Music\n",
    "- Sound level is measured in decibels which is in negative scale , where \n",
    "    - 0 db is the highest level\n",
    "- The standard is that you make the sound ranges from **`-12 db`** (this is the low end point) to **`-6 db`** (this is the high end point)    \n",
    "- for the background music, he just adjusted the level with his ears :("
   ]
  },
  {
   "cell_type": "markdown",
   "metadata": {},
   "source": [
    "#### 2- Getting free icons\n",
    "- https://www.iconfinder.com/\n",
    "    - choose **`vector`** and also download the **`SVG`** version, not the `png`, because we want to scale without pixilating"
   ]
  },
  {
   "cell_type": "markdown",
   "metadata": {},
   "source": [
    "#### 3- animating\n",
    "- in the time line, press **`u`** to ony show the attributes of the layers that has **`keyframes`** in it\n",
    "- selecting mutliple keyframes is with **`shift + click`** , NOT `ctrl + click`\n",
    "\n",
    "**Applying ease**\n",
    "- while selecting the in & out keyframes\n",
    "    - you can apply \"easy ease\" by `right clicking` on one of the two keyframes, then `keyframe assistant`, then `easy ease`\n",
    "    - or \"manual ease\" : `right clicking` on one of the two keyframes, then `keyframe velocity` then change the `influence`\n",
    "    - what \"easy ease\" does is that it sets the `influence` to 33.33% (for both: incoming and outgoing velocity), but what the author likes to do is crank it up to **`75%`** (for both: incoming and outgoing velocity)"
   ]
  },
  {
   "cell_type": "markdown",
   "metadata": {},
   "source": [
    "#### 4- add sounds and noises\n",
    "- these are usually under the name **`interface noises`**. examples of them are : pops, clicks, etc\n",
    "- sources \n",
    "    - https://freesound.org/"
   ]
  },
  {
   "cell_type": "markdown",
   "metadata": {},
   "source": [
    "#### 5- making circular burst\n",
    "- when you draw a shape, if u draw it by mouse, its anchor will not be in the shapes center (which will force u to adjust it), but u can avoid that by double clicking on the shape tool, this will make the shape as larga as the video, but it will also make the anchot at the center of the shape (and then u can resize the shape as u want)\n",
    "- here are the steps of making circular burst :\n",
    "    - 1) double click on the rounded rectangle tool \n",
    "    - 2) change the size of the shape by : changing the following attributes (under : shape layer ->rectangle 1 -> rectabgle path)\n",
    "        - `size`\n",
    "            - keyframe1: width=30 & height=0 (do not forget tp unchecl the chain tool to be able to do such adjustment), what u will see is a line of 30 px wide an no height.\n",
    "            - keyframe2: (after about a second) width=0 & height=60\n",
    "        - `position`\n",
    "            - keyframe1: x=0 & y=0\n",
    "            - keyframe2: x=0 & y= -240 (goes up!)\n",
    "    - 3) do the manual ease for the previous KF of the two attributes (using 75% influence for all keyframes)\n",
    "    - 4) add a repeater\n",
    "        - in the shape layer, twirl it up and then twirl it down so that every thing appears\n",
    "        - go to : shape layer -> contents, and you will find a button next to the word \"add\", click on it, then choose repeater (repeater is an effect)\n",
    "        - open the repeater (twirl it down)\n",
    "            - change copies to 13 (or as like as u want)\n",
    "            - twirl down `Transform: Repeater 1` and change the follwing\n",
    "                - remove the `position` vlaue by setting it to all zeros\n",
    "                - at `rotation` write the following 0x 360/13 , and the program will make the math for you\n",
    "    - 5) reposition the shape layer\n",
    "        - its hard to move it by hand, so you may use the `position` attribute at the shape layer \n",
    "            - this is done by : shape layer -> transform -> position (careful not to go under content (which has \"rectangle 1\" and \"repeater 1\") because u may find transform there, but it is not the intended to be changed )\n",
    "            \n",
    "The cool thing is that once u did it once, and u want to use it for another job, just copy and paste this shape layer to any new comp or any new project"
   ]
  },
  {
   "cell_type": "markdown",
   "metadata": {},
   "source": [
    "**Note:** hold `shift` while u are moving the marker at the time line, so that it snaps to significant places"
   ]
  },
  {
   "cell_type": "markdown",
   "metadata": {},
   "source": [
    "### (3/12) Techniques for beautiful animation"
   ]
  },
  {
   "cell_type": "markdown",
   "metadata": {},
   "source": [
    "#### 1- "
   ]
  },
  {
   "cell_type": "code",
   "execution_count": null,
   "metadata": {},
   "outputs": [],
   "source": []
  }
 ],
 "metadata": {
  "kernelspec": {
   "display_name": "Python 3",
   "language": "python",
   "name": "python3"
  },
  "language_info": {
   "codemirror_mode": {
    "name": "ipython",
    "version": 3
   },
   "file_extension": ".py",
   "mimetype": "text/x-python",
   "name": "python",
   "nbconvert_exporter": "python",
   "pygments_lexer": "ipython3",
   "version": "3.7.1"
  },
  "varInspector": {
   "cols": {
    "lenName": 16,
    "lenType": 16,
    "lenVar": 40
   },
   "kernels_config": {
    "python": {
     "delete_cmd_postfix": "",
     "delete_cmd_prefix": "del ",
     "library": "var_list.py",
     "varRefreshCmd": "print(var_dic_list())"
    },
    "r": {
     "delete_cmd_postfix": ") ",
     "delete_cmd_prefix": "rm(",
     "library": "var_list.r",
     "varRefreshCmd": "cat(var_dic_list()) "
    }
   },
   "types_to_exclude": [
    "module",
    "function",
    "builtin_function_or_method",
    "instance",
    "_Feature"
   ],
   "window_display": false
  }
 },
 "nbformat": 4,
 "nbformat_minor": 2
}
