{
 "cells": [
  {
   "cell_type": "markdown",
   "metadata": {},
   "source": [
    "### make sure to start the youtube script with the first sentence (not the time \"00:00\")"
   ]
  },
  {
   "cell_type": "markdown",
   "metadata": {},
   "source": [
    "#### step (1/2) delete odd numbered lines"
   ]
  },
  {
   "cell_type": "code",
   "execution_count": 23,
   "metadata": {},
   "outputs": [],
   "source": [
    "_file = open(\"youtube_script.txt\", \"r\")\n",
    "text = _file.readlines()\n",
    "\n",
    "# when we delete each line, i expected to delete the odd lines 1,3,5... but the problem is that when i delete the line \"1\", the line\n",
    "# with number 3 becomes line 2 (indices change), so i have to make a mathematica function for that to delete 1, (3-1 = 2), (5-2=3), etc\n",
    "# this will be i-0, i-1, i-2 etc where the number which i will subtract, i will name it subtractor:\n",
    "subtractor = 0\n",
    "\n",
    "list_length= len(text)-1  # will use it to not go out of range\n",
    "\n",
    "for i, j in enumerate(text):\n",
    "    list_length= len(text)-1  # will use it to not go out of range, and this \n",
    "                              # must be calculated each time, b/c lits size changes each loop\n",
    "    if i != list_length:\n",
    "        del text[i+1]\n",
    "\n",
    "\n",
    "\n",
    "_file.close()\n",
    "_file = open(\"youtube_script.txt\", \"w\")\n",
    "for i in text:\n",
    "    _file.write(i)\n",
    "    \n",
    "_file.close()"
   ]
  },
  {
   "cell_type": "markdown",
   "metadata": {},
   "source": [
    "#### step (2/2) remove carriage return"
   ]
  },
  {
   "cell_type": "code",
   "execution_count": 24,
   "metadata": {},
   "outputs": [],
   "source": [
    "# since the file is not too long, i can read the file, do the modifiction, then write it again. (i am not replacing in place)\n",
    "\n",
    "# note:  File handling in Python requires no importing of modules. \n",
    "\n",
    "s = open(\"youtube_script.txt\").read()\n",
    "s = s.replace('\\n', ' ')\n",
    "f = open(\"youtube_script.txt\", 'w')\n",
    "f.write(s)\n",
    "f.close()"
   ]
  },
  {
   "cell_type": "code",
   "execution_count": null,
   "metadata": {},
   "outputs": [],
   "source": []
  }
 ],
 "metadata": {
  "kernelspec": {
   "display_name": "Python 3",
   "language": "python",
   "name": "python3"
  },
  "language_info": {
   "codemirror_mode": {
    "name": "ipython",
    "version": 3
   },
   "file_extension": ".py",
   "mimetype": "text/x-python",
   "name": "python",
   "nbconvert_exporter": "python",
   "pygments_lexer": "ipython3",
   "version": "3.7.1"
  },
  "varInspector": {
   "cols": {
    "lenName": 16,
    "lenType": 16,
    "lenVar": 40
   },
   "kernels_config": {
    "python": {
     "delete_cmd_postfix": "",
     "delete_cmd_prefix": "del ",
     "library": "var_list.py",
     "varRefreshCmd": "print(var_dic_list())"
    },
    "r": {
     "delete_cmd_postfix": ") ",
     "delete_cmd_prefix": "rm(",
     "library": "var_list.r",
     "varRefreshCmd": "cat(var_dic_list()) "
    }
   },
   "oldHeight": 329,
   "position": {
    "height": "40px",
    "left": "1061px",
    "right": "20px",
    "top": "120px",
    "width": "285px"
   },
   "types_to_exclude": [
    "module",
    "function",
    "builtin_function_or_method",
    "instance",
    "_Feature"
   ],
   "varInspector_section_display": "none",
   "window_display": true
  }
 },
 "nbformat": 4,
 "nbformat_minor": 2
}
