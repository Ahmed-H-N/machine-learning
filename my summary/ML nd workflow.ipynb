{
 "cells": [
  {
   "cell_type": "markdown",
   "metadata": {},
   "source": [
    "# ML nd workfLow"
   ]
  },
  {
   "cell_type": "markdown",
   "metadata": {},
   "source": [
    "## first, lets recap all termonology and things that is mentioned\n",
    "\n",
    "### Learning Algorithms\n",
    "\n",
    "\n",
    "### Loss functions = Error function (i.e the thing that we want to minimize/optomize) \n",
    "- MAE (Mean Absolute Error)\n",
    "    - use it when\n",
    "- RMS (Root Absolute Error)\n",
    "    - use it when\n",
    "    - do not confuse this with rmsprop below\n",
    "- categorical_crossentropy\n",
    "    - use it when\n",
    "    \n",
    "### optimization algorithms (we use it to optomize/minimize the error function)\n",
    "- Gradient Descnet : use it when\n",
    "- \n",
    "\n",
    "### preventing overfitting\n",
    "- In all projects\n",
    "    - split data into train and test, and use shuffle\n",
    "- in p[]\n",
    "    - regularization L1 or L2\n",
    "        - L1 :\n",
    "        - L2 :\n",
    "- in decision trees\n",
    "    - use random forest (an ensamble method)\n",
    "- in nn\n",
    "    - drop out : \n",
    "\n",
    "\n",
    "\n",
    "### Workflow"
   ]
  }
 ],
 "metadata": {
  "kernelspec": {
   "display_name": "Python 3",
   "language": "python",
   "name": "python3"
  },
  "language_info": {
   "codemirror_mode": {
    "name": "ipython",
    "version": 3
   },
   "file_extension": ".py",
   "mimetype": "text/x-python",
   "name": "python",
   "nbconvert_exporter": "python",
   "pygments_lexer": "ipython3",
   "version": "3.7.1"
  },
  "varInspector": {
   "cols": {
    "lenName": 16,
    "lenType": 16,
    "lenVar": 40
   },
   "kernels_config": {
    "python": {
     "delete_cmd_postfix": "",
     "delete_cmd_prefix": "del ",
     "library": "var_list.py",
     "varRefreshCmd": "print(var_dic_list())"
    },
    "r": {
     "delete_cmd_postfix": ") ",
     "delete_cmd_prefix": "rm(",
     "library": "var_list.r",
     "varRefreshCmd": "cat(var_dic_list()) "
    }
   },
   "types_to_exclude": [
    "module",
    "function",
    "builtin_function_or_method",
    "instance",
    "_Feature"
   ],
   "window_display": false
  }
 },
 "nbformat": 4,
 "nbformat_minor": 2
}
