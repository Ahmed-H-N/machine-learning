{
 "cells": [
  {
   "cell_type": "markdown",
   "metadata": {},
   "source": [
    "# Summary of Secure and Private AI nd"
   ]
  },
  {
   "cell_type": "markdown",
   "metadata": {},
   "source": [
    "## content\n",
    "\n",
    "**1. Secure and Private AI**\n",
    "- L1. Welcome to the scholarchip challenge --------------------(5 min)\n",
    "- L2. Deep Learning with PyTorch ---------------------------------(120 min)\n",
    "- L3. Introducing Differenctial Privacy-----------------------------(60 min)\n",
    "- L4. Evaluating the Privacy of a Function -----------------------(120 min)\n",
    "- L5. Introducing Local and Global Differenctial Privacy -----(120 min)\n",
    "- L6. Differenctial Privacy for Deep Learning -------------------(60 min)\n",
    "- L7. Federated Learning --------------------------------------------(120 min)\n",
    "- L8. Securing Federated Learning -------------------------------(120 min)\n",
    "- L9. Encrypted Deep Learning ------------------------------------(120 min)\n",
    "- L10. Challenge Course Wrap up --------------------------------(1 min)\n",
    "------------------------------------------------------------------------\n",
    "---------------------------------------------------------------------------------- Total = 846 mins = 14 hrs "
   ]
  },
  {
   "cell_type": "markdown",
   "metadata": {},
   "source": [
    "## Lesson 1 : Welcome to the scholarchip challenge"
   ]
  },
  {
   "cell_type": "markdown",
   "metadata": {},
   "source": [
    "### (1-1.1) How this Program Works\n",
    "- Phase 1: Secure and Private AI Scholarship Challenge\n",
    "- Phase 2: Deep Learning or Computer Vision Nanodegree Scholarship Opportunity\n",
    "    - These scholarships will be awarded based on your \n",
    "        - **progress and performance** in the initial 3-month challenge course, as well as your \n",
    "        - **contributions** to the student community."
   ]
  },
  {
   "cell_type": "markdown",
   "metadata": {},
   "source": [
    "### (1-1.2) Join the Scholar Learning Community"
   ]
  },
  {
   "cell_type": "markdown",
   "metadata": {},
   "source": [
    "## Lesson 2 : Deep Learning with PyTorch"
   ]
  },
  {
   "cell_type": "markdown",
   "metadata": {},
   "source": [
    "#### content (27 concepts)\n",
    "- 1- Welcome\n",
    "- 2- About Pytorch and this lesson\n",
    "- 3- Pre-Notebook\n",
    "- 4- Notebook Workspace\n",
    "- 5- Single layer neural networks\n",
    "- 6- Single layer neural networks Solution\n",
    "- 7- Networks Using Matrix Multiplication\n",
    "- 8- Multilayer Network Solution\n",
    "- 9- Neural Networks in Pytorch\n",
    "- 10- Neural Networks Solution\n",
    "- 11- Implementing Softmax Solution\n",
    "- 12- Network Architectures in Pytorch\n",
    "- 13- Network Architectures Solution\n",
    "- 14- Training a Network Solution\n",
    "- 15- Classifying Fashion-MNIST\n",
    "- 16- Fashion-MNIST Solution\n",
    "- 17- Inference and Validation\n",
    "- 18- Validation Solution\n",
    "- 19- Dropout Solution\n",
    "- 20- Saving and Loading models\n",
    "- 21- Loading Image Data\n",
    "- 22- Loading Image Data Solution\n",
    "- 23- Pre-Notebook with GPU\n",
    "- 24- Notebook workspace w/ GPU\n",
    "- 25- Transfer Learning\n",
    "- 26- Transfer Learning Solution\n",
    "- 27- Tips, Tricks, and Other Notes"
   ]
  },
  {
   "cell_type": "markdown",
   "metadata": {},
   "source": [
    "### (1-2.1) Welcome\n",
    "- The content in this course requires that you are comfortable using PyTorch, a Python library for building deep learning models and other machine learning algorithms. \n",
    "- For those who haven't used PyTorch before, we've included this lesson (taught by me!) to prepare you for the rest of the course. \n",
    "- In the lesson, I cover basic operations like matrix multiplication all the way to building state-of-the-art image classifiers."
   ]
  },
  {
   "cell_type": "markdown",
   "metadata": {},
   "source": [
    "### (1-2.2) About Pytorch and this lesson\n",
    "Welcome! In this lesson, you'll learn how to use PyTorch for building deep learning models. PyTorch was released in early 2017 and has been making a pretty big impact in the deep learning community. It's developed as an open source project by the [Facebook AI Research team](https://research.fb.com/category/facebook-ai-research/), but is being adopted by teams everywhere in industry and academia. In my experience, it's the best framework for learning deep learning and just a delight to work with in general. By the end of this lesson, you'll have trained your own deep learning model that can classify images of cats and dogs.\n",
    "\n",
    "I'll first give you a basic introduction to PyTorch, where we'll cover **tensors** - the main data structure of PyTorch. I'll show you how to create tensors, how to do simple operations, and how tensors interact with NumPy.\n",
    "\n",
    "Then you'll learn about a module called **autograd** that PyTorch uses to calculate gradients for training neural networks. Autograd, in my opinion, is amazing. It does all the work of backpropagation for you by calculating the gradients at each operation in the network which you can then use to update the network weights.\n",
    "\n",
    "Next you'll use PyTorch to build a network and run data forward through it. After that, you'll define a loss and an optimization method to train the neural network on a dataset of handwritten digits. You'll also learn how to test that your network is able to generalize through **validation**.\n",
    "\n",
    "However, you'll find that your network doesn't work too well with more complex images. You'll learn how to use pre-trained networks to improve the performance of your classifier, a technique known as **transfer learning**.\n",
    "\n",
    "Follow along with the videos and work through the exercises in your own notebooks. If you get stuck, check out my solution videos and notebooks.\n",
    "\n",
    "The final part of the series has a soft requirement of a GPU used to accelerate network computations. Even if you don't have a GPU available, you'll still be able to run the code and finish the exercises. PyTorch uses a library called [CUDA](https://developer.nvidia.com/cuda-zone) to accelerate operations using the GPU. If you have a GPU that CUDA supports, you'll be able to install all the necessary libraries by installing PyTorch with conda. If you can't use a local GPU, you can use cloud platforms such as [AWS](https://docs.aws.amazon.com/dlami/latest/devguide/gpu.html), [GCP](https://cloud.google.com/gpu/), and [FloydHub](https://www.floydhub.com/) to train your networks on a GPU.\n",
    "\n",
    "Our Nanodegree programs also provide GPU workspaces in the classroom, **as well as credits for AWS**"
   ]
  },
  {
   "cell_type": "markdown",
   "metadata": {},
   "source": [
    "### (1-2.3) Pre-Notebook\n",
    " We've prepared a set of **eight notebooks** that lead you through building deep neural networks in PyTorch. Work your way through the notebooks completing the exercises as best as you can. Feel free to check out our solutions both in the videos and in the solution notebooks, but remember that it's super important that you **type in the correct code yourself**. If you want to learn how to do this, you have to write in the code yourself, understand what every line of the code is doing, and get everything to work properly yourself. Please use our solutions only to guide your learning."
   ]
  },
  {
   "cell_type": "markdown",
   "metadata": {},
   "source": [
    "### (1-2.4) Notebook Workspace\n",
    "just download the files"
   ]
  },
  {
   "cell_type": "markdown",
   "metadata": {},
   "source": [
    "### (1-2.5) Single layer neural networks\n",
    "- First, i searched for the difference between a tensor and a Matrix , here i found the answer https://math.stackexchange.com/questions/412423/what-are-the-differences-between-a-matrix-and-a-tensor\n"
   ]
  },
  {
   "cell_type": "markdown",
   "metadata": {},
   "source": [
    "### (1-2.6) Single layer neural networks Solution\n",
    "- he said that he uses `tensor.view(a,b)` b/c it always returns an error if u give it a dimension that is less or more than the original dimension."
   ]
  },
  {
   "cell_type": "markdown",
   "metadata": {},
   "source": [
    "### (1-2.7) Networks Using Matrix Multiplication\n",
    "- he said that stacking neurons (making a multilayer network instead of a single layer) gives it a greater power to capture patterns and correlations in the data (i need to understand why this is the case??) "
   ]
  },
  {
   "cell_type": "markdown",
   "metadata": {},
   "source": [
    "### (1-2.8) Multilayer Network Solution"
   ]
  },
  {
   "cell_type": "markdown",
   "metadata": {},
   "source": [
    "### (1-2.9) Neural Networks in Pytorch"
   ]
  },
  {
   "cell_type": "markdown",
   "metadata": {},
   "source": [
    "### (1-2.10) Neural Networks Solution"
   ]
  },
  {
   "cell_type": "markdown",
   "metadata": {},
   "source": [
    "### (1-2.11) Implementing Softmax Solution\n",
    "- my resoureces :\n",
    "    - **OOP in python**\n",
    "        - z \n",
    "    - **Generators in python**"
   ]
  },
  {
   "cell_type": "markdown",
   "metadata": {},
   "source": [
    "### (1-2.12) Network Architectures in Pytorch"
   ]
  },
  {
   "cell_type": "markdown",
   "metadata": {},
   "source": [
    "### (1-2.13) Network Architectures Solution \n",
    "- I need to understand the `with` keyword <br><br>\n",
    "\n",
    "- a resource to understand the difference of using accumlated gradients, vs. no- \n",
    "    - https://www.quora.com/What-does-it-mean-that-gradients-are-accumulated-in-Pytorch-and-what-is-the-use-for-it\n",
    "    - also in this link, i saw a beautiful sentence : \"The gradients (partial derivatives of the loss function with respect to each parameter)\"\n"
   ]
  },
  {
   "cell_type": "markdown",
   "metadata": {},
   "source": [
    "### (1-2.14) Training a Network Solution"
   ]
  },
  {
   "cell_type": "markdown",
   "metadata": {},
   "source": [
    "### (1-2.15) Classifying Fashion-MNIST"
   ]
  },
  {
   "cell_type": "markdown",
   "metadata": {},
   "source": [
    "### (1-2.16) Fashion-MNIST Solution"
   ]
  },
  {
   "cell_type": "markdown",
   "metadata": {},
   "source": [
    "### (1-2.17) Inference and Validation\n",
    "- he mentioned that the validation metric is usually \"Accuracy\", however there is also\n",
    "    - precision \n",
    "    - recall\n",
    "    - top 5 error rate\n",
    "        - see this link : https://stats.stackexchange.com/questions/156471/imagenet-what-is-top-1-and-top-5-error-rate"
   ]
  },
  {
   "cell_type": "markdown",
   "metadata": {},
   "source": [
    "### (1-2.18) Validation Solution\n",
    "- he demonstrated a use of `else:` in a `for-loop`\n",
    "    - see this link https://www.geeksforgeeks.org/using-else-conditional-statement-with-for-loop-in-python/\n",
    "        - i still do not why we do not just put the else-code outside the for-loop ?!"
   ]
  },
  {
   "cell_type": "markdown",
   "metadata": {},
   "source": [
    "### (1-2.19) Dropout Solution"
   ]
  },
  {
   "cell_type": "markdown",
   "metadata": {},
   "source": [
    "### (1-2.20) Saving and Loading models "
   ]
  },
  {
   "cell_type": "markdown",
   "metadata": {},
   "source": [
    "### (1-2.21) Loading Image Data\n",
    "- at $03:39$ he talked about how to access a generator , using a `for-loop` or converting it to an `iter` then use `next` \n",
    "    - i need to understand this, and what is this `next` ?!"
   ]
  },
  {
   "cell_type": "markdown",
   "metadata": {},
   "source": [
    "### (1-2.22)  Loading Image Data Solution\n",
    "- Q\\ why does he do a center crop?!"
   ]
  },
  {
   "cell_type": "markdown",
   "metadata": {},
   "source": [
    "### (1-2.23) "
   ]
  },
  {
   "cell_type": "markdown",
   "metadata": {},
   "source": [
    "### (1-2.24) "
   ]
  },
  {
   "cell_type": "markdown",
   "metadata": {},
   "source": [
    "### (1-2.25) "
   ]
  },
  {
   "cell_type": "markdown",
   "metadata": {},
   "source": [
    "### (1-2.26) "
   ]
  },
  {
   "cell_type": "markdown",
   "metadata": {},
   "source": [
    "### (1-2.27) "
   ]
  }
 ],
 "metadata": {
  "kernelspec": {
   "display_name": "Python 3",
   "language": "python",
   "name": "python3"
  },
  "language_info": {
   "codemirror_mode": {
    "name": "ipython",
    "version": 3
   },
   "file_extension": ".py",
   "mimetype": "text/x-python",
   "name": "python",
   "nbconvert_exporter": "python",
   "pygments_lexer": "ipython3",
   "version": "3.7.1"
  },
  "varInspector": {
   "cols": {
    "lenName": 16,
    "lenType": 16,
    "lenVar": 40
   },
   "kernels_config": {
    "python": {
     "delete_cmd_postfix": "",
     "delete_cmd_prefix": "del ",
     "library": "var_list.py",
     "varRefreshCmd": "print(var_dic_list())"
    },
    "r": {
     "delete_cmd_postfix": ") ",
     "delete_cmd_prefix": "rm(",
     "library": "var_list.r",
     "varRefreshCmd": "cat(var_dic_list()) "
    }
   },
   "types_to_exclude": [
    "module",
    "function",
    "builtin_function_or_method",
    "instance",
    "_Feature"
   ],
   "window_display": false
  }
 },
 "nbformat": 4,
 "nbformat_minor": 2
}
