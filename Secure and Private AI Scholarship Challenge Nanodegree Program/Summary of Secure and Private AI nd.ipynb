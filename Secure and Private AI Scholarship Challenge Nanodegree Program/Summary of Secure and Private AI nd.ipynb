{
 "cells": [
  {
   "cell_type": "markdown",
   "metadata": {},
   "source": [
    "# Summary of Secure and Private AI nd"
   ]
  },
  {
   "cell_type": "markdown",
   "metadata": {},
   "source": [
    "## content\n",
    "\n",
    "**1. Secure and Private AI**\n",
    "- L1. Welcome to the scholarchip challenge --------------------(5 min)\n",
    "- L2. Deep Learning with PyTorch ---------------------------------(120 min)\n",
    "- L3. Introducing Differential Privacy-----------------------------(60 min)\n",
    "- L4. Evaluating the Privacy of a Function -----------------------(120 min)\n",
    "- L5. Introducing Local and Global Differenctial Privacy -----(120 min)\n",
    "- L6. Differenctial Privacy for Deep Learning -------------------(60 min)\n",
    "- L7. Federated Learning --------------------------------------------(120 min)\n",
    "- L8. Securing Federated Learning -------------------------------(120 min)\n",
    "- L9. Encrypted Deep Learning ------------------------------------(120 min)\n",
    "- L10. Challenge Course Wrap up --------------------------------(1 min)\n",
    "------------------------------------------------------------------------\n",
    "---------------------------------------------------------------------------------- Total = 846 mins = 14 hrs "
   ]
  },
  {
   "cell_type": "markdown",
   "metadata": {},
   "source": [
    "## Lesson 1 : Welcome to the scholarchip challenge"
   ]
  },
  {
   "cell_type": "markdown",
   "metadata": {},
   "source": [
    "### (1-1.1) How this Program Works\n",
    "- Phase 1: Secure and Private AI Scholarship Challenge\n",
    "- Phase 2: Deep Learning or Computer Vision Nanodegree Scholarship Opportunity\n",
    "    - These scholarships will be awarded based on your \n",
    "        - **progress and performance** in the initial 3-month challenge course, as well as your \n",
    "        - **contributions** to the student community."
   ]
  },
  {
   "cell_type": "markdown",
   "metadata": {},
   "source": [
    "### (1-1.2) Join the Scholar Learning Community"
   ]
  },
  {
   "cell_type": "markdown",
   "metadata": {},
   "source": [
    "## Lesson 2 : Deep Learning with PyTorch"
   ]
  },
  {
   "cell_type": "markdown",
   "metadata": {},
   "source": [
    "#### content (27 concepts)\n",
    "- 1- Welcome\n",
    "- 2- About Pytorch and this lesson\n",
    "- 3- Pre-Notebook\n",
    "- 4- Notebook Workspace\n",
    "- 5- Single layer neural networks\n",
    "- 6- Single layer neural networks Solution\n",
    "- 7- Networks Using Matrix Multiplication\n",
    "- 8- Multilayer Network Solution\n",
    "- 9- Neural Networks in Pytorch\n",
    "- 10- Neural Networks Solution\n",
    "- 11- Implementing Softmax Solution\n",
    "- 12- Network Architectures in Pytorch\n",
    "- 13- Network Architectures Solution\n",
    "- 14- Training a Network Solution\n",
    "- 15- Classifying Fashion-MNIST\n",
    "- 16- Fashion-MNIST Solution\n",
    "- 17- Inference and Validation\n",
    "- 18- Validation Solution\n",
    "- 19- Dropout Solution\n",
    "- 20- Saving and Loading models\n",
    "- 21- Loading Image Data\n",
    "- 22- Loading Image Data Solution\n",
    "- 23- Pre-Notebook with GPU\n",
    "- 24- Notebook workspace w/ GPU\n",
    "- 25- Transfer Learning\n",
    "- 26- Transfer Learning Solution\n",
    "- 27- Tips, Tricks, and Other Notes"
   ]
  },
  {
   "cell_type": "markdown",
   "metadata": {},
   "source": [
    "### (1-2.1) Welcome\n",
    "- The content in this course requires that you are comfortable using PyTorch, a Python library for building deep learning models and other machine learning algorithms. \n",
    "- For those who haven't used PyTorch before, we've included this lesson (taught by me!) to prepare you for the rest of the course. \n",
    "- In the lesson, I cover basic operations like matrix multiplication all the way to building state-of-the-art image classifiers."
   ]
  },
  {
   "cell_type": "markdown",
   "metadata": {},
   "source": [
    "### (1-2.2) About Pytorch and this lesson\n",
    "Welcome! In this lesson, you'll learn how to use PyTorch for building deep learning models. PyTorch was released in early 2017 and has been making a pretty big impact in the deep learning community. It's developed as an open source project by the [Facebook AI Research team](https://research.fb.com/category/facebook-ai-research/), but is being adopted by teams everywhere in industry and academia. In my experience, it's the best framework for learning deep learning and just a delight to work with in general. By the end of this lesson, you'll have trained your own deep learning model that can classify images of cats and dogs.\n",
    "\n",
    "I'll first give you a basic introduction to PyTorch, where we'll cover **tensors** - the main data structure of PyTorch. I'll show you how to create tensors, how to do simple operations, and how tensors interact with NumPy.\n",
    "\n",
    "Then you'll learn about a module called **autograd** that PyTorch uses to calculate gradients for training neural networks. Autograd, in my opinion, is amazing. It does all the work of backpropagation for you by calculating the gradients at each operation in the network which you can then use to update the network weights.\n",
    "\n",
    "Next you'll use PyTorch to build a network and run data forward through it. After that, you'll define a loss and an optimization method to train the neural network on a dataset of handwritten digits. You'll also learn how to test that your network is able to generalize through **validation**.\n",
    "\n",
    "However, you'll find that your network doesn't work too well with more complex images. You'll learn how to use pre-trained networks to improve the performance of your classifier, a technique known as **transfer learning**.\n",
    "\n",
    "Follow along with the videos and work through the exercises in your own notebooks. If you get stuck, check out my solution videos and notebooks.\n",
    "\n",
    "The final part of the series has a soft requirement of a GPU used to accelerate network computations. Even if you don't have a GPU available, you'll still be able to run the code and finish the exercises. PyTorch uses a library called [CUDA](https://developer.nvidia.com/cuda-zone) to accelerate operations using the GPU. If you have a GPU that CUDA supports, you'll be able to install all the necessary libraries by installing PyTorch with conda. If you can't use a local GPU, you can use cloud platforms such as [AWS](https://docs.aws.amazon.com/dlami/latest/devguide/gpu.html), [GCP](https://cloud.google.com/gpu/), and [FloydHub](https://www.floydhub.com/) to train your networks on a GPU.\n",
    "\n",
    "Our Nanodegree programs also provide GPU workspaces in the classroom, **as well as credits for AWS**"
   ]
  },
  {
   "cell_type": "markdown",
   "metadata": {},
   "source": [
    "### (1-2.3) Pre-Notebook\n",
    " We've prepared a set of **eight notebooks** that lead you through building deep neural networks in PyTorch. Work your way through the notebooks completing the exercises as best as you can. Feel free to check out our solutions both in the videos and in the solution notebooks, but remember that it's super important that you **type in the correct code yourself**. If you want to learn how to do this, you have to write in the code yourself, understand what every line of the code is doing, and get everything to work properly yourself. Please use our solutions only to guide your learning."
   ]
  },
  {
   "cell_type": "markdown",
   "metadata": {},
   "source": [
    "### (1-2.4) Notebook Workspace\n",
    "just download the files"
   ]
  },
  {
   "cell_type": "markdown",
   "metadata": {},
   "source": [
    "### (1-2.5) Single layer neural networks\n",
    "- First, i searched for the difference between a tensor and a Matrix , here i found the answer https://math.stackexchange.com/questions/412423/what-are-the-differences-between-a-matrix-and-a-tensor\n"
   ]
  },
  {
   "cell_type": "markdown",
   "metadata": {},
   "source": [
    "### (1-2.6) Single layer neural networks Solution\n",
    "- he said that he uses `tensor.view(a,b)` b/c it always returns an error if u give it a dimension that is less or more than the original dimension."
   ]
  },
  {
   "cell_type": "markdown",
   "metadata": {},
   "source": [
    "### (1-2.7) Networks Using Matrix Multiplication\n",
    "- he said that stacking neurons (making a multilayer network instead of a single layer) gives it a greater power to capture patterns and correlations in the data (i need to understand why this is the case??) "
   ]
  },
  {
   "cell_type": "markdown",
   "metadata": {},
   "source": [
    "### (1-2.8) Multilayer Network Solution"
   ]
  },
  {
   "cell_type": "markdown",
   "metadata": {},
   "source": [
    "### (1-2.9) Neural Networks in Pytorch"
   ]
  },
  {
   "cell_type": "markdown",
   "metadata": {},
   "source": [
    "### (1-2.10) Neural Networks Solution"
   ]
  },
  {
   "cell_type": "markdown",
   "metadata": {},
   "source": [
    "### (1-2.11) Implementing Softmax Solution\n",
    "- my resoureces :\n",
    "    - **OOP in python**\n",
    "        - z \n",
    "    - **Generators in python**"
   ]
  },
  {
   "cell_type": "markdown",
   "metadata": {},
   "source": [
    "### (1-2.12) Network Architectures in Pytorch"
   ]
  },
  {
   "cell_type": "markdown",
   "metadata": {},
   "source": [
    "### (1-2.13) Network Architectures Solution \n",
    "- I need to understand the `with` keyword <br><br>\n",
    "\n",
    "- a resource to understand the difference of using accumlated gradients, vs. no- \n",
    "    - https://www.quora.com/What-does-it-mean-that-gradients-are-accumulated-in-Pytorch-and-what-is-the-use-for-it\n",
    "    - also in this link, i saw a beautiful sentence : \"The gradients (partial derivatives of the loss function with respect to each parameter)\"\n"
   ]
  },
  {
   "cell_type": "markdown",
   "metadata": {},
   "source": [
    "### (1-2.14) Training a Network Solution"
   ]
  },
  {
   "cell_type": "markdown",
   "metadata": {},
   "source": [
    "### (1-2.15) Classifying Fashion-MNIST"
   ]
  },
  {
   "cell_type": "markdown",
   "metadata": {},
   "source": [
    "### (1-2.16) Fashion-MNIST Solution"
   ]
  },
  {
   "cell_type": "markdown",
   "metadata": {},
   "source": [
    "### (1-2.17) Inference and Validation\n",
    "- he mentioned that the validation metric is usually \"Accuracy\", however there is also\n",
    "    - precision \n",
    "    - recall\n",
    "    - top 5 error rate\n",
    "        - see this link : https://stats.stackexchange.com/questions/156471/imagenet-what-is-top-1-and-top-5-error-rate"
   ]
  },
  {
   "cell_type": "markdown",
   "metadata": {},
   "source": [
    "### (1-2.18) Validation Solution\n",
    "- he demonstrated a use of `else:` in a `for-loop`\n",
    "    - see this link https://www.geeksforgeeks.org/using-else-conditional-statement-with-for-loop-in-python/\n",
    "        - i still do not why we do not just put the else-code outside the for-loop ?!"
   ]
  },
  {
   "cell_type": "markdown",
   "metadata": {},
   "source": [
    "### (1-2.19) Dropout Solution"
   ]
  },
  {
   "cell_type": "markdown",
   "metadata": {},
   "source": [
    "### (1-2.20) Saving and Loading models "
   ]
  },
  {
   "cell_type": "markdown",
   "metadata": {},
   "source": [
    "### (1-2.21) Loading Image Data\n",
    "- at $03:39$ he talked about how to access a generator , using a `for-loop` or converting it to an `iter` then use `next` \n",
    "    - i need to understand this, and what is this `next` ?!"
   ]
  },
  {
   "cell_type": "markdown",
   "metadata": {},
   "source": [
    "### (1-2.22)  Loading Image Data Solution\n",
    "- Q\\ why does he do a center crop?!"
   ]
  },
  {
   "cell_type": "markdown",
   "metadata": {},
   "source": [
    "### (1-2.23) Pre-Notebook with GPU"
   ]
  },
  {
   "cell_type": "markdown",
   "metadata": {},
   "source": [
    "### (1-2.24) Notebook workspace w/ GPU"
   ]
  },
  {
   "cell_type": "markdown",
   "metadata": {},
   "source": [
    "### (1-2.25) Transfer Learning"
   ]
  },
  {
   "cell_type": "markdown",
   "metadata": {},
   "source": [
    "### (1-2.26) Transfer Learning Solution"
   ]
  },
  {
   "cell_type": "markdown",
   "metadata": {},
   "source": [
    "### (1-2.27) Tips, Tricks, and Other Notes\n",
    "read the reading"
   ]
  },
  {
   "cell_type": "markdown",
   "metadata": {},
   "source": [
    "## Lesson 3 : Introducing Differential Privacy"
   ]
  },
  {
   "cell_type": "markdown",
   "metadata": {},
   "source": [
    "#### content (8 concepts)\n",
    "- 1- Secure & Private AI Program Introduction\n",
    "- 2- Lesson 1 Introduction\n",
    "- 3- What is Differential Privacy\n",
    "- 4- Can We Just Anonymize Data\n",
    "- 5- Introducing The Canonical Database\n",
    "- 6- Project Intro Build A Private Database In Python\n",
    "- 7- Notebook Exercise Instructions\n",
    "- 8- Project Demo Build A Private Database In Python"
   ]
  },
  {
   "cell_type": "markdown",
   "metadata": {},
   "source": [
    "### (1-3.1) Secure & Private AI Program Introduction"
   ]
  },
  {
   "cell_type": "markdown",
   "metadata": {},
   "source": [
    "### (1-3.2) Lesson 1 Introduction\n",
    "\"Differential Privacy is about ensuring that when our neural networks are learning from sensitive data, that they're only learning what they are supposed to learn from the data without accidently learning what they are not supposed to learn from the data."
   ]
  },
  {
   "cell_type": "markdown",
   "metadata": {},
   "source": [
    "### (1-3.3) What is Differential Privacy\n",
    "- we will define it here in a high level.\n",
    "- general goal of DP : is to ensure that different kinds of statistical analysis don't compromise privacy.\n",
    "    - to accomplish this goal, we need to have a robust definition of \"privacy\" itself\n",
    "- definition u may hear at media :\n",
    "- a better definiton for ML: \n",
    "- modern definition : differntial privacy describes a promise, made by a data holder, or curator, to a data subject, and the promise is like this: \"You will not be affected, adversely or otherwise, by allowing your data to be used in any study or analysis, no matter what other studies, data sets, or information sources, are available.\""
   ]
  },
  {
   "cell_type": "markdown",
   "metadata": {},
   "source": [
    "### (1-3.4) Can We Just Anonymize Data\n",
    "- the answer to the lesson's question is no, as the author gave example of netflex competition where they replaced the names of users by digits, and also the names of movies by digits, but a research group could identify a large portion of the names and the movies by comparing the ratings from the netflex competition data set with the ratings available at imdb site."
   ]
  },
  {
   "cell_type": "markdown",
   "metadata": {},
   "source": [
    "### (1-3.5) Introducing The Canonical Database\n",
    "- privacy definition in the context of the data base\n",
    "    - given that we perform a query against the database, if we remove a person from the database, and the query does not change, then the person's privacy is fully protected.\n",
    "        - in other words, if the query does not change even when we remove someone from the database, then that person was not leaking any statistical information into the output of the query.<br>\n",
    "        \n",
    "<font color=red> I do not understand this previous definition !! i need an example of the query does change and the query does not change when we remove a person from the data base, so that i do understand this</font>   <br><br>      \n",
    "\n",
    "- Now the big question : can we construct a query which does not change no matter who we remove from the database?\n",
    "    - we will explore this question in the next concept, with a simple python example."
   ]
  },
  {
   "cell_type": "markdown",
   "metadata": {},
   "source": [
    "### (1-3.6) Project Intro Build A Private Database In Python"
   ]
  },
  {
   "cell_type": "markdown",
   "metadata": {},
   "source": [
    "### (1-3.7) Notebook Exercise Instructions\n",
    "just installation instructions"
   ]
  },
  {
   "cell_type": "markdown",
   "metadata": {},
   "source": [
    "### (1-3.8) Project Demo Build A Private Database In Python\n",
    "- **A video that demonstrates the solution**\n",
    "- note how he created an empty list like this `parallel_dbs = list()` which is the same as `parallel_dbs = []`\n",
    "    - in this link, an answer shows that it is a personal prefrence to use either way, but some people prefer the first way because it is pronounceable (I like this too :D ) : https://stackoverflow.com/questions/2972212/creating-an-empty-list-in-python"
   ]
  },
  {
   "cell_type": "markdown",
   "metadata": {},
   "source": [
    "## Lesson 4 : Evaluating the Privacy of a Function"
   ]
  },
  {
   "cell_type": "markdown",
   "metadata": {},
   "source": [
    "#### content (7 concepts)\n",
    "- 1- Evaluating The Privacy Of A Function\n",
    "- 2- Project Intro Evaluating The Privacy Of A Function\n",
    "- 3- Project Demo Evaluating The Privacy Of A Function\n",
    "- 4- Project Intro Calculating L1 Sensitivity For Threshold\n",
    "- 5- Project Demo Calculating L1 Sensitivity For Threshold\n",
    "- 6- Project Intro Perform A Differencing Attack\n",
    "- 7- Project Demo Perform A Differencing Attack"
   ]
  },
  {
   "cell_type": "markdown",
   "metadata": {},
   "source": [
    "### (1-4.1) Evaluating The Privacy Of A Function\n",
    "- in the previous lesson, we generated parallel databases.\n",
    "- in this lesson, we will learn how to query this database, and then measure the privacy of that query. <br><br>\n",
    "\n",
    "- he generated the database and the parallel ones (with one element removed from each), and did a query. A simple Query would be sum of the column of the database.\n",
    "- he made a function to get the maximum change that happens in parallel data bases (i.e in respond to the removing one person), and this maximum was \"1\". \n",
    "    - actually, since we have a priori knowledge about the databases, we needn't do the empirical calculation we just did, instead we can conclude the sensitivity as follows: \n",
    "        - we know that its maximum is 1 and its minimum is 0, so removing any element from the database will have a change of at most 1-0 = 1 . <br><br>\n",
    "    \n",
    "- **L1-Sensitivity** or Sensitivity, for short, is \n",
    "    - the maximum that the query changes when removing an individual from the database.\n",
    "    \n",
    "- we noted the the sum-query leaks a bit of the data, because the output of the sum-query is conditioned on every individual that is a 1 in the database. <br><br>\n",
    "\n",
    "- in the next section, we will write code to check the sensitivity of any function. "
   ]
  },
  {
   "cell_type": "markdown",
   "metadata": {},
   "source": [
    "### (1-4.2) Project Intro Evaluating The Privacy Of A Function\n",
    "- here he defines a function that is called `Sensitivity`\n",
    "    - it takes the `query` (a function that we want to calc sensitivity for), and the `n_entries` for the base database\n",
    "    - it outputs the sensitivity of the function\n",
    "- the `Sesnitivity` function should : \n",
    "    - initialize of database with the correct size\n",
    "    - initialize all parallel databases\n",
    "    - run the query over all databases\n",
    "    - correctly calculate sensitivity\n",
    "    - return sensitivity."
   ]
  },
  {
   "cell_type": "markdown",
   "metadata": {},
   "source": [
    "### (1-4.3) Project Demo Evaluating The Privacy Of A Function\n",
    "- notes:\n",
    "    - how we can easily pass the name of the function as an argument to another function\n",
    "    - note how he casted the numbers to float before calculating the mean. <br><br>\n",
    "    \n",
    "- I did not understand the last bit when he said that, \"it is easier to protect privacy if multiple people are contributing to the data \"??     "
   ]
  },
  {
   "cell_type": "markdown",
   "metadata": {},
   "source": [
    "### (1-4.4) Project Intro Calculating L1 Sensitivity For Threshold"
   ]
  },
  {
   "cell_type": "markdown",
   "metadata": {},
   "source": [
    "### (1-4.5)"
   ]
  },
  {
   "cell_type": "markdown",
   "metadata": {},
   "source": [
    "### (1-4.6)"
   ]
  },
  {
   "cell_type": "markdown",
   "metadata": {},
   "source": [
    "### (1-4.7)"
   ]
  }
 ],
 "metadata": {
  "kernelspec": {
   "display_name": "Python 3",
   "language": "python",
   "name": "python3"
  },
  "language_info": {
   "codemirror_mode": {
    "name": "ipython",
    "version": 3
   },
   "file_extension": ".py",
   "mimetype": "text/x-python",
   "name": "python",
   "nbconvert_exporter": "python",
   "pygments_lexer": "ipython3",
   "version": "3.7.1"
  },
  "varInspector": {
   "cols": {
    "lenName": 16,
    "lenType": 16,
    "lenVar": 40
   },
   "kernels_config": {
    "python": {
     "delete_cmd_postfix": "",
     "delete_cmd_prefix": "del ",
     "library": "var_list.py",
     "varRefreshCmd": "print(var_dic_list())"
    },
    "r": {
     "delete_cmd_postfix": ") ",
     "delete_cmd_prefix": "rm(",
     "library": "var_list.r",
     "varRefreshCmd": "cat(var_dic_list()) "
    }
   },
   "types_to_exclude": [
    "module",
    "function",
    "builtin_function_or_method",
    "instance",
    "_Feature"
   ],
   "window_display": false
  }
 },
 "nbformat": 4,
 "nbformat_minor": 2
}
