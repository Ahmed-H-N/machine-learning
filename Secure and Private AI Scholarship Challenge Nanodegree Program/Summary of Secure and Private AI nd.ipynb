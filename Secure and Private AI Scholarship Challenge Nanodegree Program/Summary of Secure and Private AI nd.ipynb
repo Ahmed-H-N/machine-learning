{
 "cells": [
  {
   "cell_type": "markdown",
   "metadata": {},
   "source": [
    "# Summary of Secure and Private AI nd"
   ]
  },
  {
   "cell_type": "markdown",
   "metadata": {},
   "source": [
    "## content\n",
    "\n",
    "**1. Secure and Private AI**\n",
    "- L1. Welcome to the scholarchip challenge --------------------(5 min)\n",
    "- L2. Deep Learning with PyTorch ---------------------------------(120 min)\n",
    "- L3. Introducing Differenctial Privacy-----------------------------(60 min)\n",
    "- L4. Evaluating the Privacy of a Function -----------------------(120 min)\n",
    "- L5. Introducing Local and Global Differenctial Privacy -----(120 min)\n",
    "- L6. Differenctial Privacy for Deep Learning -------------------(60 min)\n",
    "- L7. Federated Learning --------------------------------------------(120 min)\n",
    "- L8. Securing Federated Learning -------------------------------(120 min)\n",
    "- L9. Encrypted Deep Learning ------------------------------------(120 min)\n",
    "- L10. Challenge Course Wrap up --------------------------------(1 min)\n",
    "------------------------------------------------------------------------\n",
    "---------------------------------------------------------------------------------- Total = 846 mins = 14 hrs "
   ]
  },
  {
   "cell_type": "markdown",
   "metadata": {},
   "source": [
    "## Lesson 1 : Welcome to the scholarchip challenge"
   ]
  },
  {
   "cell_type": "markdown",
   "metadata": {},
   "source": [
    "### (1-1.1) How this Program Works\n",
    "- Phase 1: Secure and Private AI Scholarship Challenge\n",
    "- Phase 2: Deep Learning or Computer Vision Nanodegree Scholarship Opportunity\n",
    "    - These scholarships will be awarded based on your \n",
    "        - **progress and performance** in the initial 3-month challenge course, as well as your \n",
    "        - **contributions** to the student community."
   ]
  },
  {
   "cell_type": "markdown",
   "metadata": {},
   "source": [
    "### (1-1.2) Join the Scholar Learning Community"
   ]
  },
  {
   "cell_type": "markdown",
   "metadata": {},
   "source": [
    "## Lesson 2 : Deep Learning with PyTorch"
   ]
  },
  {
   "cell_type": "markdown",
   "metadata": {},
   "source": [
    "#### content (27 concepts)\n",
    "- 1- Welcome\n",
    "- 2- About Pytorch and this lesson\n",
    "- 3- Pre-Notebook\n",
    "- 4- Notebook Workspace\n",
    "- 5- Single layer neural networks\n",
    "- 6- Single layer neural networks Solution\n",
    "- 7- Networks Using Matrix Multiplication\n",
    "- 8- Multilayer Network Solution\n",
    "- 9- Neural Networks in Pytorch\n",
    "- 10- Neural Networks Solution\n",
    "- 11- Implementing Softmax Solution\n",
    "- 12- Network Architectures in Pytorch\n",
    "- 13- Network Architectures Solution\n",
    "- 14- Training a Network Solution\n",
    "- 15- Classifying Fashion-MNIST\n",
    "- 16- Fashion-MNIST Solution\n",
    "- 17- Inference and Validation\n",
    "- 18- Validation Solution\n",
    "- 19- Dropout Solution\n",
    "- 20- Saving and Loading models\n",
    "- 21- Loading Image Data\n",
    "- 22- Loading Image Data Solution\n",
    "- 23- Pre-Notebook with GPU\n",
    "- 24- Notebook workspace w/ GPU\n",
    "- 25- Transfer Learning\n",
    "- 26- Transfer Learning Solution\n",
    "- 27- Tips, Tricks, and Other Notes"
   ]
  },
  {
   "cell_type": "markdown",
   "metadata": {},
   "source": [
    "### (1-2.1) Welcome"
   ]
  }
 ],
 "metadata": {
  "kernelspec": {
   "display_name": "Python 3",
   "language": "python",
   "name": "python3"
  },
  "language_info": {
   "codemirror_mode": {
    "name": "ipython",
    "version": 3
   },
   "file_extension": ".py",
   "mimetype": "text/x-python",
   "name": "python",
   "nbconvert_exporter": "python",
   "pygments_lexer": "ipython3",
   "version": "3.7.1"
  },
  "varInspector": {
   "cols": {
    "lenName": 16,
    "lenType": 16,
    "lenVar": 40
   },
   "kernels_config": {
    "python": {
     "delete_cmd_postfix": "",
     "delete_cmd_prefix": "del ",
     "library": "var_list.py",
     "varRefreshCmd": "print(var_dic_list())"
    },
    "r": {
     "delete_cmd_postfix": ") ",
     "delete_cmd_prefix": "rm(",
     "library": "var_list.r",
     "varRefreshCmd": "cat(var_dic_list()) "
    }
   },
   "types_to_exclude": [
    "module",
    "function",
    "builtin_function_or_method",
    "instance",
    "_Feature"
   ],
   "window_display": false
  }
 },
 "nbformat": 4,
 "nbformat_minor": 2
}
